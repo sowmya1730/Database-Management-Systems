{
  "nbformat": 4,
  "nbformat_minor": 0,
  "metadata": {
    "colab": {
      "provenance": []
    },
    "kernelspec": {
      "name": "python3",
      "display_name": "Python 3"
    },
    "language_info": {
      "name": "python"
    }
  },
  "cells": [
    {
      "cell_type": "markdown",
      "source": [
        "Introduction:\n",
        "\n",
        "Restructure a flattened and/or denormalized dataset so it can be loaded into a SQL or Graph database. Identify and demonstrate a form of analysis that is made easier by restructuring the data."
      ],
      "metadata": {
        "id": "1t0v53U7uEBF"
      }
    },
    {
      "cell_type": "markdown",
      "source": [
        "Dataset: Yelp Dataset - https://www.kaggle.com/yelp-dataset/yelp-dataset"
      ],
      "metadata": {
        "id": "jdK4SFFouTBH"
      }
    },
    {
      "cell_type": "markdown",
      "source": [
        "Importing Necessary Libraries"
      ],
      "metadata": {
        "id": "BQNhOFs5u5iC"
      }
    },
    {
      "cell_type": "code",
      "source": [
        "!pip install psycopg2"
      ],
      "metadata": {
        "colab": {
          "base_uri": "https://localhost:8080/"
        },
        "id": "kCd2ViuWGXc1",
        "outputId": "566a45b2-4785-4683-ce25-2518117efd35"
      },
      "execution_count": 1,
      "outputs": [
        {
          "output_type": "stream",
          "name": "stdout",
          "text": [
            "Requirement already satisfied: psycopg2 in /usr/local/lib/python3.10/dist-packages (2.9.9)\n"
          ]
        }
      ]
    },
    {
      "cell_type": "code",
      "execution_count": 2,
      "metadata": {
        "id": "Mw46YE-Zs_Od"
      },
      "outputs": [],
      "source": [
        "#Importing necessary libraries\n",
        "import json\n",
        "import pandas as pd\n",
        "import psycopg2\n",
        "import matplotlib.pyplot as plt"
      ]
    },
    {
      "cell_type": "markdown",
      "source": [
        "Data Loading"
      ],
      "metadata": {
        "id": "DCP2hknyu8eI"
      }
    },
    {
      "cell_type": "code",
      "source": [
        "# Load the Yelp dataset from JSON files into Python DataFrames\n",
        "business_data = pd.read_json('business.json', lines=True)\n",
        "business_data = pd.concat([pd.DataFrame(json.loads(line), index=[0]) for line in open('business.json')])"
      ],
      "metadata": {
        "id": "BTBePcv0ObMZ"
      },
      "execution_count": 3,
      "outputs": []
    },
    {
      "cell_type": "code",
      "source": [
        "# Display the first few rows to understand the structure\n",
        "print(business_data.head())"
      ],
      "metadata": {
        "colab": {
          "base_uri": "https://localhost:8080/"
        },
        "id": "_Vco6K2ksh52",
        "outputId": "e9121ac1-2084-4c6b-9444-c44653bd4828"
      },
      "execution_count": 5,
      "outputs": [
        {
          "output_type": "stream",
          "name": "stdout",
          "text": [
            "              business_id                      name  \\\n",
            "0  Pns2l4eNsfO8kk83dixA6A  Abby Rappoport, LAC, CMQ   \n",
            "0  mpf3x-BjTdTEA3yCZrAYPw             The UPS Store   \n",
            "0  tUFrWirKiKi_TAnsVWINQQ                    Target   \n",
            "0  MTSW4McQd7CbVtyjqoe9mw        St Honore Pastries   \n",
            "0  mWMc6_wTdE0EUBKIGXDVfA  Perkiomen Valley Brewery   \n",
            "\n",
            "                           address           city state postal_code  \\\n",
            "0           1616 Chapala St, Ste 2  Santa Barbara    CA       93101   \n",
            "0  87 Grasso Plaza Shopping Center         Affton    MO       63123   \n",
            "0             5255 E Broadway Blvd         Tucson    AZ       85711   \n",
            "0                      935 Race St   Philadelphia    PA       19107   \n",
            "0                    101 Walnut St     Green Lane    PA       18054   \n",
            "\n",
            "    latitude   longitude  stars  review_count  is_open attributes  \\\n",
            "0  34.426679 -119.711197    5.0             7        0        NaN   \n",
            "0  38.551126  -90.335695    3.0            15        1        NaN   \n",
            "0  32.223236 -110.880452    3.5            22        0        NaN   \n",
            "0  39.955505  -75.155564    4.0            80        1        NaN   \n",
            "0  40.338183  -75.471659    4.5            13        1        NaN   \n",
            "\n",
            "                                          categories hours  \n",
            "0  Doctors, Traditional Chinese Medicine, Naturop...  None  \n",
            "0  Shipping Centers, Local Services, Notaries, Ma...   NaN  \n",
            "0  Department Stores, Shopping, Fashion, Home & G...   NaN  \n",
            "0  Restaurants, Food, Bubble Tea, Coffee & Tea, B...   NaN  \n",
            "0                          Brewpubs, Breweries, Food   NaN  \n"
          ]
        }
      ]
    },
    {
      "cell_type": "code",
      "source": [
        "# Save the dataframe as a CSV file\n",
        "business_data.to_csv('business.csv', index=False)"
      ],
      "metadata": {
        "id": "3jZFc8cNsh4T"
      },
      "execution_count": 6,
      "outputs": []
    },
    {
      "cell_type": "code",
      "source": [
        "# Print the number of records loaded from each file\n",
        "print(f\"Number of business records: {len(business_data)}\")"
      ],
      "metadata": {
        "id": "HTEoAwGBNhL3",
        "colab": {
          "base_uri": "https://localhost:8080/"
        },
        "outputId": "07016240-07d5-41ea-af8c-1cd617df28d8"
      },
      "execution_count": 7,
      "outputs": [
        {
          "output_type": "stream",
          "name": "stdout",
          "text": [
            "Number of business records: 150346\n"
          ]
        }
      ]
    },
    {
      "cell_type": "markdown",
      "source": [
        "Data Cleaning and Preprocessing"
      ],
      "metadata": {
        "id": "kDCfa7SMvA4Q"
      }
    },
    {
      "cell_type": "code",
      "source": [
        "# Read the CSV file back into a pandas dataframe\n",
        "business_df = pd.read_csv('business.csv')\n",
        "\n",
        "# Drop any duplicate rows\n",
        "business_df = business_df.drop_duplicates()\n",
        "\n",
        "# Drop any rows with missing values\n",
        "business_df = business_df.dropna()\n",
        "\n",
        "# Convert data types if needed (e.g., convert 'stars' to float)\n",
        "business_df['stars'] = business_df['stars'].astype(float)\n",
        "\n",
        "# Save the cleaned dataframe to a new CSV file\n",
        "business_df.to_csv('cleaned_business.csv', index=False)\n"
      ],
      "metadata": {
        "id": "vYRtgyggvIml"
      },
      "execution_count": 8,
      "outputs": []
    },
    {
      "cell_type": "markdown",
      "source": [
        "Normalization and Database Design"
      ],
      "metadata": {
        "id": "wMicJFw7vTk4"
      }
    },
    {
      "cell_type": "markdown",
      "source": [
        "Database Implementation"
      ],
      "metadata": {
        "id": "e2Biaf31_PXQ"
      }
    }
  ]
}